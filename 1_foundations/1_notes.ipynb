{
 "cells": [
  {
   "cell_type": "markdown",
   "id": "b06dfe36",
   "metadata": {},
   "source": [
    "### What AI agents actually are?\n",
    "\n",
    "AI agents are programs where LLM outputs control the workflow."
   ]
  },
  {
   "cell_type": "markdown",
   "id": "2fc10cf1",
   "metadata": {},
   "source": [
    "In practice, describes an AI solution that involves any of all of these:\n",
    "\n",
    "1. Multiple LLM calls\n",
    "2. LLMs with ability to use Tools.\n",
    "3. An environment where LLMs interact.\n",
    "4. A Planner to coordinate activities.\n",
    "5. Autonomy."
   ]
  },
  {
   "cell_type": "markdown",
   "id": "183b64ec",
   "metadata": {},
   "source": [
    "### Agentic Systems\n",
    "\n",
    "Antropic distinguishes two types:\n",
    "\n",
    "1. Workflows are systems where LLMs and tools are otchestrated through predefined code paths.\n",
    "2. Agents are systems where LLMs dynamically direct their own processes and tool usage, maintaining control over how they accomplish tasks.\n"
   ]
  },
  {
   "cell_type": "markdown",
   "id": "8fce2387",
   "metadata": {},
   "source": []
  }
 ],
 "metadata": {
  "language_info": {
   "name": "python"
  }
 },
 "nbformat": 4,
 "nbformat_minor": 5
}
