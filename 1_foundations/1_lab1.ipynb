{
 "cells": [
  {
   "cell_type": "code",
   "execution_count": 1,
   "id": "be429665",
   "metadata": {},
   "outputs": [],
   "source": [
    "# First lets do an import\n",
    "from dotenv import load_dotenv"
   ]
  },
  {
   "cell_type": "code",
   "execution_count": 2,
   "id": "6c31d81c",
   "metadata": {},
   "outputs": [
    {
     "data": {
      "text/plain": [
       "True"
      ]
     },
     "execution_count": 2,
     "metadata": {},
     "output_type": "execute_result"
    }
   ],
   "source": [
    "# Load the API keys into environment variables\n",
    "load_dotenv(override=True)"
   ]
  },
  {
   "cell_type": "code",
   "execution_count": 3,
   "id": "304e7fa5",
   "metadata": {},
   "outputs": [
    {
     "name": "stdout",
     "output_type": "stream",
     "text": [
      "API key exists and begins: sk-proj-...\n"
     ]
    }
   ],
   "source": [
    "# Check if the API keys are loaded\n",
    "\n",
    "import os\n",
    "openai_api_key = os.getenv(\"OPENAI_API_KEY\")\n",
    "\n",
    "if openai_api_key:\n",
    "    print(f\"API key exists and begins: {openai_api_key[:8]}...\")\n",
    "else:\n",
    "    print(\"OpenAI API key not set - please check your environment variables\")"
   ]
  },
  {
   "cell_type": "code",
   "execution_count": 4,
   "id": "0350215a",
   "metadata": {},
   "outputs": [],
   "source": [
    "# And now - the all important import statement\n",
    "# if you get an import error, head over to troubleshooting guide\n",
    "\n",
    "from openai import OpenAI"
   ]
  },
  {
   "cell_type": "code",
   "execution_count": 5,
   "id": "00723b63",
   "metadata": {},
   "outputs": [],
   "source": [
    "# create an instance of the OpenAI class\n",
    "openai = OpenAI()"
   ]
  },
  {
   "cell_type": "code",
   "execution_count": 6,
   "id": "28617a43",
   "metadata": {},
   "outputs": [],
   "source": [
    "# Create a list of messages in the familiar openai format\n",
    "\n",
    "messages = [{\"role\":\"user\", \"content\":\"What is 2+2?\"}]"
   ]
  },
  {
   "cell_type": "code",
   "execution_count": 7,
   "id": "2eecf27c",
   "metadata": {},
   "outputs": [
    {
     "name": "stdout",
     "output_type": "stream",
     "text": [
      "2 + 2 equals 4.\n"
     ]
    }
   ],
   "source": [
    "# And now call the openai API \n",
    "\n",
    "response = openai.chat.completions.create(\n",
    "    model=\"gpt-4.1-nano\",\n",
    "    messages=messages,\n",
    ")\n",
    "\n",
    "print(response.choices[0].message.content)"
   ]
  },
  {
   "cell_type": "code",
   "execution_count": 8,
   "id": "22170a8a",
   "metadata": {},
   "outputs": [],
   "source": [
    "# And now lets ask for a question\n",
    "\n",
    "question = \"Please propose a hard, challenging questions to assess someone's IQ. Respond only with the question.\"\n",
    "messages = [{\"role\":\"user\", \"content\":question}]"
   ]
  },
  {
   "cell_type": "code",
   "execution_count": 9,
   "id": "dd9e6ca8",
   "metadata": {},
   "outputs": [
    {
     "name": "stdout",
     "output_type": "stream",
     "text": [
      "Certainly! Here's a challenging question designed to assess problem-solving and pattern recognition skills:\n",
      "\n",
      "*In a certain code, the sequence of letters is arranged as follows: A, C, E, G, I, K. What is the next letter in the sequence?*\n"
     ]
    }
   ],
   "source": [
    "# Ask the question now.\n",
    "response = openai.chat.completions.create(\n",
    "    model=\"gpt-4.1-nano\",\n",
    "    messages=messages,\n",
    ")\n",
    "\n",
    "question = response.choices[0].message.content\n",
    "\n",
    "print(question)"
   ]
  },
  {
   "cell_type": "code",
   "execution_count": 10,
   "id": "0dd44695",
   "metadata": {},
   "outputs": [],
   "source": [
    "# Form a new messages list\n",
    "messages = [{\"role\":\"user\", \"content\":question}]"
   ]
  },
  {
   "cell_type": "code",
   "execution_count": 11,
   "id": "242b44b7",
   "metadata": {},
   "outputs": [
    {
     "name": "stdout",
     "output_type": "stream",
     "text": [
      "Let's analyze the pattern step by step:\n",
      "\n",
      "Sequence: A, C, E, G, I, K\n",
      "\n",
      "1. Look at the positions of these letters in the alphabet:\n",
      "   - A = 1\n",
      "   - C = 3\n",
      "   - E = 5\n",
      "   - G = 7\n",
      "   - I = 9\n",
      "   - K = 11\n",
      "\n",
      "2. Notice that each position is an odd number increasing by 2:\n",
      "   - 1, 3, 5, 7, 9, 11\n",
      "\n",
      "3. The pattern is that each subsequent letter is the next odd-positioned letter in the alphabet.\n",
      "\n",
      "4. The next odd number after 11 is 13, which corresponds to the 13th letter:\n",
      "   - 13th letter = M\n",
      "\n",
      "**Answer: The next letter in the sequence is _M_.**\n"
     ]
    }
   ],
   "source": [
    "# Ask the question\n",
    "response = openai.chat.completions.create(\n",
    "    model=\"gpt-4.1-nano\",\n",
    "    messages=messages,\n",
    ")\n",
    "\n",
    "answer = response.choices[0].message.content\n",
    "print(answer)"
   ]
  },
  {
   "cell_type": "code",
   "execution_count": 12,
   "id": "97c6abf6",
   "metadata": {},
   "outputs": [
    {
     "data": {
      "text/markdown": [
       "Let's analyze the pattern step by step:\n",
       "\n",
       "Sequence: A, C, E, G, I, K\n",
       "\n",
       "1. Look at the positions of these letters in the alphabet:\n",
       "   - A = 1\n",
       "   - C = 3\n",
       "   - E = 5\n",
       "   - G = 7\n",
       "   - I = 9\n",
       "   - K = 11\n",
       "\n",
       "2. Notice that each position is an odd number increasing by 2:\n",
       "   - 1, 3, 5, 7, 9, 11\n",
       "\n",
       "3. The pattern is that each subsequent letter is the next odd-positioned letter in the alphabet.\n",
       "\n",
       "4. The next odd number after 11 is 13, which corresponds to the 13th letter:\n",
       "   - 13th letter = M\n",
       "\n",
       "**Answer: The next letter in the sequence is _M_.**"
      ],
      "text/plain": [
       "<IPython.core.display.Markdown object>"
      ]
     },
     "metadata": {},
     "output_type": "display_data"
    }
   ],
   "source": [
    "from IPython.display import display, Markdown\n",
    "\n",
    "display(Markdown(answer))"
   ]
  },
  {
   "cell_type": "markdown",
   "id": "bddab822",
   "metadata": {},
   "source": [
    "### Exercise 1"
   ]
  },
  {
   "cell_type": "code",
   "execution_count": 13,
   "id": "4f435aad",
   "metadata": {},
   "outputs": [],
   "source": [
    "# frame the questions\n",
    "question = \"Pick a business are that might be worth exploring for an Agentic AI.\"\n",
    "messages = [{\"role\":\"user\", \"content\":question}]"
   ]
  },
  {
   "cell_type": "code",
   "execution_count": 14,
   "id": "f71ef87a",
   "metadata": {},
   "outputs": [
    {
     "data": {
      "text/markdown": [
       "One promising area for exploring Agentic AI development is the **personalized healthcare management sector**. \n",
       "\n",
       "**Why this area?**  \n",
       "- **Complex decision-making:** Personal health involves integrating diverse data sources—medical histories, genetics, lifestyle habits—which requires sophisticated analysis and personalized recommendations.  \n",
       "- **Continuous engagement:** Patients benefit from ongoing monitoring, timely alerts, and tailored interventions, which an Agentic AI can facilitate proactively.  \n",
       "- **Operational efficiency:** Healthcare providers can leverage such AI to improve diagnostics, optimize treatment plans, and reduce administrative burdens.  \n",
       "- **Data privacy and ethics:** Developing secure, transparent AI systems in healthcare can advance standards for ethical AI deployment.\n",
       "\n",
       "**Potential applications:**  \n",
       "- Personalized health coaching and lifestyle recommendations  \n",
       "- Proactive disease prevention alerts  \n",
       "- Assisting clinicians with diagnosis and treatment options  \n",
       "- Managing medication schedules and adherence  \n",
       "\n",
       "**Conclusion:**  \n",
       "Investing in an Agentic AI capable of intelligent, autonomous assistance in personalized healthcare could transform patient outcomes while opening new business opportunities in the digital health space."
      ],
      "text/plain": [
       "<IPython.core.display.Markdown object>"
      ]
     },
     "metadata": {},
     "output_type": "display_data"
    }
   ],
   "source": [
    "# Ask the question\n",
    "question = \"Pick a business are that might be worth exploring for an Agentic AI.\"\n",
    "messages = [{\"role\":\"user\", \"content\":question}]\n",
    "\n",
    "response = openai.chat.completions.create(\n",
    "    model=\"gpt-4.1-nano\",\n",
    "    messages=messages,\n",
    ")\n",
    "\n",
    "business_idea = response.choices[0].message.content\n",
    "display(Markdown(business_idea))"
   ]
  },
  {
   "cell_type": "code",
   "execution_count": 15,
   "id": "254967e0",
   "metadata": {},
   "outputs": [
    {
     "data": {
      "text/markdown": [
       "A significant pain point in the personalized healthcare and wellness services industry is the difficulty in integrating diverse, interdisciplinary data sources to deliver truly individualized and actionable insights. Despite advancements in wearable devices, electronic health records, genetic data, and lifestyle tracking, clinicians and consumers often encounter challenges related to data silos, inconsistent data formats, and difficulties in synthesizing information into coherent, personalized recommendations.\n",
       "\n",
       "This fragmentation hampers the ability to provide seamless, real-time, tailored interventions, leading to suboptimal patient engagement and outcomes. Additionally, privacy concerns and regulatory hurdles complicate data sharing and integration efforts.\n",
       "\n",
       "An Agentic Solution that leverages advanced AI and automation could address this by:\n",
       "- Seamlessly aggregating and standardizing multi-source health data in real-time.\n",
       "- Applying sophisticated analytics and machine learning to generate personalized, actionable guidance.\n",
       "- Ensuring secure and compliant data handling through automated privacy-preserving techniques.\n",
       "- Enhancing user engagement by delivering timely, context-aware interventions.\n",
       "\n",
       "Such a solution could significantly advance the industry by transforming raw data into meaningful, personalized health strategies at scale."
      ],
      "text/plain": [
       "<IPython.core.display.Markdown object>"
      ]
     },
     "metadata": {},
     "output_type": "display_data"
    }
   ],
   "source": [
    "# Define the question to be asked to the OpenAI model.\n",
    "question = \"What is the current painpoint in the personalized healthcare and wellness services industry? Something challenging that might be ripe for an Agentic Solution\"\n",
    "\n",
    "# Create a list of messages to send to the OpenAI API, including the user's question.\n",
    "messages = [{\"role\":\"user\", \"content\":question}]\n",
    "\n",
    "# Call the OpenAI Chat Completions API to get a response based on the provided question.\n",
    "response = openai.chat.completions.create(\n",
    "    model=\"gpt-4.1-nano\",  # Specify the model to use for generating the response.\n",
    "    messages=messages,   # Pass the list of messages (including the user's question) to the API.\n",
    ")\n",
    "\n",
    "# Extract the generated content from the API response and store it in a variable.\n",
    "painpoint_challenge = response.choices[0].message.content\n",
    "\n",
    "# Display the extracted painpoint challenge as Markdown formatted text.\n",
    "display(Markdown(painpoint_challenge))"
   ]
  },
  {
   "cell_type": "code",
   "execution_count": 16,
   "id": "2c0449a3",
   "metadata": {},
   "outputs": [
    {
     "data": {
      "text/markdown": [
       "Certainly! To propose an Agentic AI solution effectively, I need more details about the specific problem you're referring to. Could you please provide more context or describe the problem you're aiming to address?"
      ],
      "text/plain": [
       "<IPython.core.display.Markdown object>"
      ]
     },
     "metadata": {},
     "output_type": "display_data"
    }
   ],
   "source": [
    "question = \"Propose a Agentic AI solution for this problem\"\n",
    "messages = [{\"role\":\"user\", \"content\":question}]\n",
    "\n",
    "response = openai.chat.completions.create(\n",
    "    model=\"gpt-4.1-nano\",\n",
    "    messages=messages,\n",
    ")\n",
    "\n",
    "agentic_solution = response.choices[0].message.content\n",
    "display(Markdown(agentic_solution))"
   ]
  },
  {
   "cell_type": "code",
   "execution_count": null,
   "id": "dd8f0999",
   "metadata": {},
   "outputs": [],
   "source": []
  }
 ],
 "metadata": {
  "kernelspec": {
   "display_name": "agents",
   "language": "python",
   "name": "python3"
  },
  "language_info": {
   "codemirror_mode": {
    "name": "ipython",
    "version": 3
   },
   "file_extension": ".py",
   "mimetype": "text/x-python",
   "name": "python",
   "nbconvert_exporter": "python",
   "pygments_lexer": "ipython3",
   "version": "3.12.9"
  }
 },
 "nbformat": 4,
 "nbformat_minor": 5
}
