{
 "cells": [
  {
   "cell_type": "code",
   "execution_count": 1,
   "id": "be429665",
   "metadata": {},
   "outputs": [],
   "source": [
    "# First lets do an import\n",
    "from dotenv import load_dotenv"
   ]
  },
  {
   "cell_type": "code",
   "execution_count": 2,
   "id": "6c31d81c",
   "metadata": {},
   "outputs": [
    {
     "data": {
      "text/plain": [
       "True"
      ]
     },
     "execution_count": 2,
     "metadata": {},
     "output_type": "execute_result"
    }
   ],
   "source": [
    "# Load the API keys into environment variables\n",
    "load_dotenv(override=True)"
   ]
  },
  {
   "cell_type": "code",
   "execution_count": 3,
   "id": "304e7fa5",
   "metadata": {},
   "outputs": [
    {
     "name": "stdout",
     "output_type": "stream",
     "text": [
      "API key exists and begins: sk-proj-...\n"
     ]
    }
   ],
   "source": [
    "# Check if the API keys are loaded\n",
    "\n",
    "import os\n",
    "openai_api_key = os.getenv(\"OPENAI_API_KEY\")\n",
    "\n",
    "if openai_api_key:\n",
    "    print(f\"API key exists and begins: {openai_api_key[:8]}...\")\n",
    "else:\n",
    "    print(\"OpenAI API key not set - please check your environment variables\")"
   ]
  },
  {
   "cell_type": "code",
   "execution_count": 4,
   "id": "0350215a",
   "metadata": {},
   "outputs": [],
   "source": [
    "# And now - the all important import statement\n",
    "# if you get an import error, head over to troubleshooting guide\n",
    "\n",
    "from openai import OpenAI"
   ]
  },
  {
   "cell_type": "code",
   "execution_count": 5,
   "id": "00723b63",
   "metadata": {},
   "outputs": [],
   "source": [
    "# create an instance of the OpenAI class\n",
    "openai = OpenAI()"
   ]
  },
  {
   "cell_type": "code",
   "execution_count": 6,
   "id": "28617a43",
   "metadata": {},
   "outputs": [],
   "source": [
    "# Create a list of messages in the familiar openai format\n",
    "\n",
    "messages = [{\"role\":\"user\", \"content\":\"What is 2+2?\"}]"
   ]
  },
  {
   "cell_type": "code",
   "execution_count": 7,
   "id": "2eecf27c",
   "metadata": {},
   "outputs": [
    {
     "name": "stdout",
     "output_type": "stream",
     "text": [
      "2 + 2 equals 4.\n"
     ]
    }
   ],
   "source": [
    "# And now call the openai API \n",
    "\n",
    "response = openai.chat.completions.create(\n",
    "    model=\"gpt-4.1-nano\",\n",
    "    messages=messages,\n",
    ")\n",
    "\n",
    "print(response.choices[0].message.content)"
   ]
  },
  {
   "cell_type": "code",
   "execution_count": 8,
   "id": "22170a8a",
   "metadata": {},
   "outputs": [],
   "source": [
    "# And now lets ask for a question\n",
    "\n",
    "question = \"Please propose a hard, challenging questions to assess someone's IQ. Respond only with the question.\"\n",
    "messages = [{\"role\":\"user\", \"content\":question}]"
   ]
  },
  {
   "cell_type": "code",
   "execution_count": 9,
   "id": "dd9e6ca8",
   "metadata": {},
   "outputs": [
    {
     "name": "stdout",
     "output_type": "stream",
     "text": [
      "A bat and a ball cost $1.10 in total. The bat costs $1.00 more than the ball. How much does the ball cost?\n"
     ]
    }
   ],
   "source": [
    "# Ask the question now.\n",
    "response = openai.chat.completions.create(\n",
    "    model=\"gpt-4.1-nano\",\n",
    "    messages=messages,\n",
    ")\n",
    "\n",
    "question = response.choices[0].message.content\n",
    "\n",
    "print(question)"
   ]
  },
  {
   "cell_type": "code",
   "execution_count": 10,
   "id": "0dd44695",
   "metadata": {},
   "outputs": [],
   "source": [
    "# Form a new messages list\n",
    "messages = [{\"role\":\"user\", \"content\":question}]"
   ]
  },
  {
   "cell_type": "code",
   "execution_count": 11,
   "id": "242b44b7",
   "metadata": {},
   "outputs": [
    {
     "name": "stdout",
     "output_type": "stream",
     "text": [
      "Let's define the variables:\n",
      "\n",
      "- Let \\( x \\) be the cost of the ball in dollars.\n",
      "- Since the bat costs \\$1.00 more than the ball, the cost of the bat is \\( x + 1.00 \\).\n",
      "\n",
      "Given that the total cost is \\$1.10:\n",
      "\n",
      "\\[\n",
      "x + (x + 1.00) = 1.10\n",
      "\\]\n",
      "\n",
      "Combine like terms:\n",
      "\n",
      "\\[\n",
      "2x + 1.00 = 1.10\n",
      "\\]\n",
      "\n",
      "Subtract 1.00 from both sides:\n",
      "\n",
      "\\[\n",
      "2x = 0.10\n",
      "\\]\n",
      "\n",
      "Divide both sides by 2:\n",
      "\n",
      "\\[\n",
      "x = 0.05\n",
      "\\]\n",
      "\n",
      "**Answer:** The ball costs **\\$0.05** (5 cents).\n"
     ]
    }
   ],
   "source": [
    "# Ask the question\n",
    "response = openai.chat.completions.create(\n",
    "    model=\"gpt-4.1-nano\",\n",
    "    messages=messages,\n",
    ")\n",
    "\n",
    "answer = response.choices[0].message.content\n",
    "print(answer)"
   ]
  },
  {
   "cell_type": "code",
   "execution_count": 12,
   "id": "97c6abf6",
   "metadata": {},
   "outputs": [
    {
     "data": {
      "text/markdown": [
       "Let's define the variables:\n",
       "\n",
       "- Let \\( x \\) be the cost of the ball in dollars.\n",
       "- Since the bat costs \\$1.00 more than the ball, the cost of the bat is \\( x + 1.00 \\).\n",
       "\n",
       "Given that the total cost is \\$1.10:\n",
       "\n",
       "\\[\n",
       "x + (x + 1.00) = 1.10\n",
       "\\]\n",
       "\n",
       "Combine like terms:\n",
       "\n",
       "\\[\n",
       "2x + 1.00 = 1.10\n",
       "\\]\n",
       "\n",
       "Subtract 1.00 from both sides:\n",
       "\n",
       "\\[\n",
       "2x = 0.10\n",
       "\\]\n",
       "\n",
       "Divide both sides by 2:\n",
       "\n",
       "\\[\n",
       "x = 0.05\n",
       "\\]\n",
       "\n",
       "**Answer:** The ball costs **\\$0.05** (5 cents)."
      ],
      "text/plain": [
       "<IPython.core.display.Markdown object>"
      ]
     },
     "metadata": {},
     "output_type": "display_data"
    }
   ],
   "source": [
    "from IPython.display import display, Markdown\n",
    "\n",
    "display(Markdown(answer))"
   ]
  },
  {
   "cell_type": "markdown",
   "id": "bddab822",
   "metadata": {},
   "source": [
    "### Exercise 1"
   ]
  },
  {
   "cell_type": "code",
   "execution_count": 13,
   "id": "4f435aad",
   "metadata": {},
   "outputs": [],
   "source": [
    "# frame the questions\n",
    "question = \"Pick a business are that might be worth exploring for an Agentic AI.\"\n",
    "messages = [{\"role\":\"user\", \"content\":question}]"
   ]
  },
  {
   "cell_type": "code",
   "execution_count": 14,
   "id": "f71ef87a",
   "metadata": {},
   "outputs": [
    {
     "data": {
      "text/markdown": [
       "One promising business area for an Agentic AI is personalized healthcare management. \n",
       "\n",
       "This involves an AI that can proactively monitor individual health data, recommend lifestyle adjustments, manage medication schedules, and coordinate with healthcare providers. Such an AI could empower users to take a more active role in their health, improve early detection of health issues, and optimize treatment plans. Given the increasing availability of wearable health devices and health data, an Agentic AI in this space could significantly enhance personalized medicine and improve overall health outcomes."
      ],
      "text/plain": [
       "<IPython.core.display.Markdown object>"
      ]
     },
     "metadata": {},
     "output_type": "display_data"
    }
   ],
   "source": [
    "# Ask the question\n",
    "question = \"Pick a business are that might be worth exploring for an Agentic AI.\"\n",
    "messages = [{\"role\":\"user\", \"content\":question}]\n",
    "\n",
    "response = openai.chat.completions.create(\n",
    "    model=\"gpt-4.1-nano\",\n",
    "    messages=messages,\n",
    ")\n",
    "\n",
    "business_idea = response.choices[0].message.content\n",
    "display(Markdown(business_idea))"
   ]
  },
  {
   "cell_type": "code",
   "execution_count": null,
   "id": "254967e0",
   "metadata": {},
   "outputs": [
    {
     "data": {
      "text/markdown": [
       "One of the most prominent pain points in the personalized healthcare and wellness services industry today is the accurate and secure integration of diverse, real-time data sources to deliver truly individualized and actionable insights. This challenge encompasses several dimensions:\n",
       "\n",
       "1. **Data Fragmentation and Interoperability:** Patient data often resides across multiple platforms—wearables, electronic health records (EHRs), genetic databases, and lifestyle apps—making seamless integration difficult. This fragmentation hampers the ability to generate a holistic view of an individual's health.\n",
       "\n",
       "2. **Data Privacy and Security:** Handling sensitive health data requires strict compliance with privacy regulations such as HIPAA and GDPR. Ensuring secure data sharing and storage while maintaining user trust is a persistent challenge.\n",
       "\n",
       "3. **Personalized Insights and Actionability:** Transforming vast and complex data into meaningful, personalized recommendations that users can easily understand and act upon remains difficult. Many systems struggle with delivering timely, context-aware guidance.\n",
       "\n",
       "4. **User Engagement and Adherence:** Encouraging sustained user engagement with personalized plans and ensuring adherence to recommendations is often a challenge, especially when recommendations lack contextual relevance or are overly generic.\n",
       "\n",
       "**Ripe for an Agentic Solution:**\n",
       "\n",
       "An intelligent, autonomous agent capable of securely aggregating multi-source data, contextualizing it in real-time, and delivering personalized, adaptive recommendations could address these pain points. Such an agent could continuously learn from user interactions, adjust guidance dynamically, and even motivate users through personalized engagement strategies—ultimately making personalized healthcare more accessible, secure, and effective."
      ],
      "text/plain": [
       "<IPython.core.display.Markdown object>"
      ]
     },
     "metadata": {},
     "output_type": "display_data"
    }
   ],
   "source": [
    "# Define the question to be asked to the OpenAI model.\n",
    "question = \"What is the current painpoint in the personalized healthcare and wellness services industry? Something challenging that might be ripe for an Agentic Solution\"\n",
    "\n",
    "# Create a list of messages to send to the OpenAI API, including the user's question.\n",
    "messages = [{\"role\":\"user\", \"content\":question}]\n",
    "\n",
    "# Call the OpenAI Chat Completions API to get a response based on the provided question.\n",
    "response = openai.chat.completions.create(\n",
    "    model=\"gpt-4.1-nano\",  # Specify the model to use for generating the response.\n",
    "    messages=messages,   # Pass the list of messages (including the user's question) to the API.\n",
    ")\n",
    "\n",
    "# Extract the generated content from the API response and store it in a variable.\n",
    "painpoint_challenge = response.choices[0].message.content\n",
    "\n",
    "# Display the extracted painpoint challenge as Markdown formatted text.\n",
    "display(Markdown(painpoint_challenge))"
   ]
  },
  {
   "cell_type": "code",
   "execution_count": 17,
   "id": "2c0449a3",
   "metadata": {},
   "outputs": [
    {
     "data": {
      "text/markdown": [
       "Certainly! To provide an effective agentic AI solution, I need to understand the specific problem you're referring to. Could you please provide more details about the problem or challenge you're facing?"
      ],
      "text/plain": [
       "<IPython.core.display.Markdown object>"
      ]
     },
     "metadata": {},
     "output_type": "display_data"
    }
   ],
   "source": [
    "question = \"Propose a Agentic AI solution for this problem\"\n",
    "messages = [{\"role\":\"user\", \"content\":question}]\n",
    "\n",
    "response = openai.chat.completions.create(\n",
    "    model=\"gpt-4.1-nano\",\n",
    "    messages=messages,\n",
    ")\n",
    "\n",
    "agentic_solution = response.choices[0].message.content\n",
    "display(Markdown(agentic_solution))"
   ]
  },
  {
   "cell_type": "code",
   "execution_count": null,
   "id": "fd3e6263",
   "metadata": {},
   "outputs": [],
   "source": []
  }
 ],
 "metadata": {
  "kernelspec": {
   "display_name": "agents",
   "language": "python",
   "name": "python3"
  },
  "language_info": {
   "codemirror_mode": {
    "name": "ipython",
    "version": 3
   },
   "file_extension": ".py",
   "mimetype": "text/x-python",
   "name": "python",
   "nbconvert_exporter": "python",
   "pygments_lexer": "ipython3",
   "version": "3.12.9"
  }
 },
 "nbformat": 4,
 "nbformat_minor": 5
}
