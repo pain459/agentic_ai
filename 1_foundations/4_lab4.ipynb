{
 "cells": [
  {
   "cell_type": "markdown",
   "id": "65d421fa",
   "metadata": {},
   "source": [
    "Go to pushover.net and create user token and key. Install pushover on your mobile device."
   ]
  },
  {
   "cell_type": "code",
   "execution_count": 1,
   "id": "452d1457",
   "metadata": {},
   "outputs": [],
   "source": [
    "# imports\n",
    "\n",
    "from dotenv import load_dotenv\n",
    "from openai import OpenAI\n",
    "import json\n",
    "import os\n",
    "import requests\n",
    "from pypdf import PdfReader\n",
    "import gradio as gr\n"
   ]
  },
  {
   "cell_type": "code",
   "execution_count": 2,
   "id": "eb0f48cd",
   "metadata": {},
   "outputs": [],
   "source": [
    "# The usual start\n",
    "load_dotenv(override=True)\n",
    "openai = OpenAI()"
   ]
  },
  {
   "cell_type": "code",
   "execution_count": 3,
   "id": "b7fab663",
   "metadata": {},
   "outputs": [],
   "source": [
    "# For pushover\n",
    "\n",
    "pushover_user = os.getenv(\"PUSHOVER_USER\")\n",
    "pushover_token = os.getenv(\"PUSHOVER_TOKEN\")\n",
    "pushover_url = \"https://api.pushover.net/1/messages.json\"\n"
   ]
  },
  {
   "cell_type": "code",
   "execution_count": 4,
   "id": "eb7c2108",
   "metadata": {},
   "outputs": [],
   "source": [
    "def push(message):\n",
    "    print(f\"Push: {message}\")\n",
    "    payload = {\n",
    "        \"token\": pushover_token,\n",
    "        \"user\": pushover_user,\n",
    "        \"message\": message\n",
    "    }\n",
    "    requests.post(pushover_url, data=payload)\n"
   ]
  },
  {
   "cell_type": "code",
   "execution_count": 5,
   "id": "eb1838b8",
   "metadata": {},
   "outputs": [
    {
     "name": "stdout",
     "output_type": "stream",
     "text": [
      "Push: hey!\n"
     ]
    }
   ],
   "source": [
    "push(\"hey!\")"
   ]
  },
  {
   "cell_type": "code",
   "execution_count": null,
   "id": "7cfb4af0",
   "metadata": {},
   "outputs": [],
   "source": []
  }
 ],
 "metadata": {
  "kernelspec": {
   "display_name": "agents",
   "language": "python",
   "name": "python3"
  },
  "language_info": {
   "codemirror_mode": {
    "name": "ipython",
    "version": 3
   },
   "file_extension": ".py",
   "mimetype": "text/x-python",
   "name": "python",
   "nbconvert_exporter": "python",
   "pygments_lexer": "ipython3",
   "version": "3.12.9"
  }
 },
 "nbformat": 4,
 "nbformat_minor": 5
}
