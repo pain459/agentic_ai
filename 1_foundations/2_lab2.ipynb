{
 "cells": [
  {
   "cell_type": "code",
   "execution_count": 1,
   "id": "f75b0b28",
   "metadata": {},
   "outputs": [],
   "source": [
    "# Start with imports - ChatGPT and groq for this exercise.\n",
    "\n",
    "import os\n",
    "import json\n",
    "from dotenv import load_dotenv\n",
    "from openai import OpenAI\n",
    "from anthropic import Anthropic\n",
    "from IPython.display import display, Markdown\n"
   ]
  },
  {
   "cell_type": "code",
   "execution_count": 2,
   "id": "13ad5195",
   "metadata": {},
   "outputs": [
    {
     "data": {
      "text/plain": [
       "True"
      ]
     },
     "execution_count": 2,
     "metadata": {},
     "output_type": "execute_result"
    }
   ],
   "source": [
    "# Always remember to do this\n",
    "load_dotenv(override=True)"
   ]
  },
  {
   "cell_type": "code",
   "execution_count": 3,
   "id": "3808ae79",
   "metadata": {},
   "outputs": [
    {
     "name": "stdout",
     "output_type": "stream",
     "text": [
      "OpenAI API key exists and begins: sk-proj-ad\n",
      "Groq API key exists and begins: gsk_w9RVpH\n"
     ]
    }
   ],
   "source": [
    "# print the key prefixes to help with any debugging\n",
    "\n",
    "openai_api_key = os.getenv(\"OPENAI_API_KEY\")\n",
    "groq_api_key = os.getenv(\"GROQ_API_KEY\")\n",
    "\n",
    "if openai_api_key:\n",
    "    print(f\"OpenAI API key exists and begins: {openai_api_key[:10]}\")\n",
    "else:\n",
    "    print(\"OpenAI API key is not set.\")\n",
    "\n",
    "if groq_api_key:\n",
    "    print(f\"Groq API key exists and begins: {groq_api_key[:10]}\")\n",
    "else:\n",
    "    print(\"Groq API key is not set.\")\n"
   ]
  },
  {
   "cell_type": "code",
   "execution_count": 4,
   "id": "1d16e120",
   "metadata": {},
   "outputs": [],
   "source": [
    "request = \"Please come with with a challenging, nuanced question that I can as a number of LLMs to evaluate their intelligence.\"\n",
    "request += \"Answer only with question, no explanation.\"\n",
    "messages = [{\"role\": \"user\", \"content\": request}]\n"
   ]
  },
  {
   "cell_type": "code",
   "execution_count": 5,
   "id": "3d8788eb",
   "metadata": {},
   "outputs": [
    {
     "data": {
      "text/plain": [
       "[{'role': 'user',\n",
       "  'content': 'Please come with with a challenging, nuanced question that I can as a number of LLMs to evaluate their intelligence.Answer only with question, no explanation.'}]"
      ]
     },
     "execution_count": 5,
     "metadata": {},
     "output_type": "execute_result"
    }
   ],
   "source": [
    "messages"
   ]
  },
  {
   "cell_type": "code",
   "execution_count": 6,
   "id": "eae1ae69",
   "metadata": {},
   "outputs": [
    {
     "name": "stdout",
     "output_type": "stream",
     "text": [
      "How would you reconcile the ethical implications of artificial intelligence in decision-making processes with the need for efficiency and accuracy in critical fields such as healthcare and criminal justice?\n"
     ]
    }
   ],
   "source": [
    "openai = OpenAI()\n",
    "response = openai.chat.completions.create(\n",
    "    model=\"gpt-4o-mini\",\n",
    "    messages=messages,\n",
    ")\n",
    "question = response.choices[0].message.content\n",
    "print(question)"
   ]
  },
  {
   "cell_type": "code",
   "execution_count": 7,
   "id": "8272237e",
   "metadata": {},
   "outputs": [],
   "source": [
    "competitors = []\n",
    "answers = []\n",
    "messages = [{\"role\": \"user\", \"content\": question}]\n"
   ]
  },
  {
   "cell_type": "code",
   "execution_count": 8,
   "id": "8ae2af75",
   "metadata": {},
   "outputs": [
    {
     "data": {
      "text/markdown": [
       "Reconciling the ethical implications of artificial intelligence (AI) in decision-making processes with the need for efficiency and accuracy in critical fields like healthcare and criminal justice is a multi-faceted challenge that requires a balanced approach. Here are several strategies that can be employed:\n",
       "\n",
       "1. **Transparency and Accountability:** Implementing AI systems with a focus on transparency is crucial. Stakeholders should understand how AI systems make decisions, including the data and algorithms used. This can mitigate biases and provide accountability for outcomes. Regular audits and assessments should also be conducted to ensure adherence to ethical standards.\n",
       "\n",
       "2. **Interdisciplinary Collaboration:** Engaging a diverse group of experts—including ethicists, data scientists, healthcare professionals, legal experts, and community representatives—in the development and deployment of AI tools can help ensure that various perspectives and values are considered. This collaboration can lead to more ethically sound AI applications.\n",
       "\n",
       "3. **Bias Mitigation Strategies:** Developing and employing AI algorithms that are actively designed to mitigate bias can help ensure that decisions in healthcare and criminal justice are fair and equitable. This includes using diverse datasets, conducting bias audits, and continuously monitoring and updating AI systems as new data becomes available.\n",
       "\n",
       "4. **Human-in-the-Loop Systems:** Incorporating a human-in-the-loop approach ensures that critical decisions are reviewed and validated by qualified professionals. This combination can enhance the accuracy and appropriateness of outcomes while retaining the important ethical considerations that come with human judgment.\n",
       "\n",
       "5. **Regulatory Frameworks:** Establishing clear regulatory guidelines and ethical standards for the use of AI in critical fields can help balance efficiency with ethical considerations. These frameworks should emphasize the importance of safeguarding individual rights, privacy, and fairness while promoting the responsible use of AI technologies.\n",
       "\n",
       "6. **Focus on Beneficence and Non-Maleficence:** Especially in healthcare, AI applications should prioritize patient welfare. This means weighing potential benefits against risks, and ensuring that any implementation of AI is aimed at improving patient outcomes rather than merely enhancing operational efficiency.\n",
       "\n",
       "7. **Public Engagement and Education:** Engaging the public in conversations about AI in healthcare and criminal justice can foster understanding and build trust. Education initiatives can raise awareness about the benefits and limitations of AI, enabling informed discussions about ethical concerns and societal impacts.\n",
       "\n",
       "8. **Ongoing Ethical Evaluation:** The ethical landscape of AI is dynamic, so continuous evaluation of AI systems is necessary. Establishing ethical review boards or committees that regularly assess AI impact, user experiences, and societal implications can help ensure ongoing alignment with ethical principles.\n",
       "\n",
       "9. **Benefits and Equity Considerations:** AI's deployment should focus on its potential to improve access and equity in both healthcare and criminal justice. This involves recognizing disparities and ensuring that AI systems are implemented in ways that benefit underserved populations.\n",
       "\n",
       "By integrating these strategies, organizations can strive for a harmonious balance that respects ethical considerations while leveraging the advantages of AI for enhanced decision-making in critical fields. It is essential to remain vigilant about the ethical implications throughout the AI lifecycle—from development and implementation to monitoring and updating—ensuring that these technologies serve humanity positively and equitably."
      ],
      "text/plain": [
       "<IPython.core.display.Markdown object>"
      ]
     },
     "metadata": {},
     "output_type": "display_data"
    }
   ],
   "source": [
    "# Calling openai api to get the answer from GPT-4o-mini model\n",
    "\n",
    "model_name = \"gpt-4o-mini\"\n",
    "response = openai.chat.completions.create(\n",
    "    model=model_name,\n",
    "    messages=messages,\n",
    ")\n",
    "answer = response.choices[0].message.content\n",
    "\n",
    "display(Markdown(answer))\n",
    "competitors.append(model_name)\n",
    "answers.append(answer)"
   ]
  },
  {
   "cell_type": "code",
   "execution_count": 9,
   "id": "9815c0e4",
   "metadata": {},
   "outputs": [
    {
     "data": {
      "text/markdown": [
       "Reconciling the ethical implications of artificial intelligence (AI) in decision-making processes with the need for efficiency and accuracy in critical fields like healthcare and criminal justice requires a multi-faceted approach. Here are some strategies to address this challenge:\n",
       "\n",
       "**Healthcare:**\n",
       "\n",
       "1. **Transparency and explainability**: Ensure that AI algorithms used in healthcare are transparent, explainable, and interpretable, allowing clinicians to understand the decision-making process.\n",
       "2. **Human oversight**: Implement human review and validation of AI-generated diagnoses or treatment plans to detect and correct potential errors or biases.\n",
       "3. **Risk assessment and mitigation**: Identify potential risks associated with AI-driven decision-making and implement strategies to mitigate them, such as regular algorithm updates and re-validation.\n",
       "4. **Data quality and diversity**: Ensure that training data is diverse, representative, and of high quality to minimize bias and errors.\n",
       "5. **Clinician-AI collaboration**: Foster collaboration between clinicians and AI systems to leverage the strengths of both, enabling more accurate and efficient diagnoses and treatment plans.\n",
       "\n",
       "**Criminal Justice:**\n",
       "\n",
       "1. **Bias detection and mitigation**: Implement mechanisms to detect and mitigate bias in AI algorithms used in criminal justice, such as risk assessment tools for bail or sentencing decisions.\n",
       "2. **Transparency and accountability**: Ensure that AI-driven decision-making processes in criminal justice are transparent, accountable, and subject to review and appeal.\n",
       "3. **Human review and validation**: Implement human review and validation of AI-generated recommendations or decisions, such as pre-trial bail or sentencing decisions.\n",
       "4. **Data quality and validation**: Ensure that data used to train and validate AI algorithms in criminal justice is accurate, complete, and unbiased.\n",
       "5. **Regular audits and evaluations**: Regularly audit and evaluate AI systems used in criminal justice to detect and address potential biases or errors.\n",
       "\n",
       "**General Strategies:**\n",
       "\n",
       "1. **Ethics guidelines and frameworks**: Develop and implement ethics guidelines and frameworks for the development and deployment of AI systems in critical fields.\n",
       "2. **Multi-stakeholder collaboration**: Foster collaboration among stakeholders, including policymakers, technologists, clinicians, and community representatives, to ensure that AI systems are developed and deployed in a responsible and ethical manner.\n",
       "3. **Education and training**: Provide education and training for professionals working with AI systems to ensure they understand the potential benefits and limitations of AI-driven decision-making.\n",
       "4. **Continuous monitoring and evaluation**: Continuously monitor and evaluate AI systems to detect and address potential biases, errors, or unintended consequences.\n",
       "5. **Regulatory frameworks**: Establish regulatory frameworks that address the ethical implications of AI in critical fields, such as healthcare and criminal justice, and provide guidelines for the development and deployment of AI systems.\n",
       "\n",
       "**Future Research Directions:**\n",
       "\n",
       "1. **Explainable AI**: Develop more explainable and transparent AI algorithms to facilitate human understanding and trust in AI-driven decision-making.\n",
       "2. **Fairness and bias detection**: Research and develop methods to detect and mitigate bias in AI algorithms, ensuring fairness and equity in decision-making processes.\n",
       "3. **Human-AI collaboration**: Investigate the potential benefits and limitations of human-AI collaboration in critical fields, such as healthcare and criminal justice.\n",
       "4. **Value alignment**: Research methods to align AI systems with human values, such as fairness, transparency, and accountability, to ensure that AI-driven decision-making is consistent with societal norms and expectations.\n",
       "\n",
       "By adopting these strategies and research directions, we can reconcile the ethical implications of AI in decision-making processes with the need for efficiency and accuracy in critical fields like healthcare and criminal justice, ultimately promoting more responsible and beneficial AI applications."
      ],
      "text/plain": [
       "<IPython.core.display.Markdown object>"
      ]
     },
     "metadata": {},
     "output_type": "display_data"
    }
   ],
   "source": [
    "# asking groq the same question\n",
    "groq = OpenAI(api_key=groq_api_key, base_url=\"https://api.groq.com/openai/v1\")\n",
    "model_name = \"llama-3.3-70b-versatile\"\n",
    "\n",
    "response = groq.chat.completions.create(\n",
    "    model=model_name,\n",
    "    messages=messages,\n",
    ")\n",
    "groq_answer = response.choices[0].message.content\n",
    "display(Markdown(groq_answer))\n",
    "competitors.append(model_name)\n",
    "answers.append(groq_answer)\n"
   ]
  },
  {
   "cell_type": "code",
   "execution_count": 10,
   "id": "d43dac2b",
   "metadata": {},
   "outputs": [
    {
     "name": "stdout",
     "output_type": "stream",
     "text": [
      "['gpt-4o-mini', 'llama-3.3-70b-versatile']\n",
      "[\"Reconciling the ethical implications of artificial intelligence (AI) in decision-making processes with the need for efficiency and accuracy in critical fields like healthcare and criminal justice is a multi-faceted challenge that requires a balanced approach. Here are several strategies that can be employed:\\n\\n1. **Transparency and Accountability:** Implementing AI systems with a focus on transparency is crucial. Stakeholders should understand how AI systems make decisions, including the data and algorithms used. This can mitigate biases and provide accountability for outcomes. Regular audits and assessments should also be conducted to ensure adherence to ethical standards.\\n\\n2. **Interdisciplinary Collaboration:** Engaging a diverse group of experts—including ethicists, data scientists, healthcare professionals, legal experts, and community representatives—in the development and deployment of AI tools can help ensure that various perspectives and values are considered. This collaboration can lead to more ethically sound AI applications.\\n\\n3. **Bias Mitigation Strategies:** Developing and employing AI algorithms that are actively designed to mitigate bias can help ensure that decisions in healthcare and criminal justice are fair and equitable. This includes using diverse datasets, conducting bias audits, and continuously monitoring and updating AI systems as new data becomes available.\\n\\n4. **Human-in-the-Loop Systems:** Incorporating a human-in-the-loop approach ensures that critical decisions are reviewed and validated by qualified professionals. This combination can enhance the accuracy and appropriateness of outcomes while retaining the important ethical considerations that come with human judgment.\\n\\n5. **Regulatory Frameworks:** Establishing clear regulatory guidelines and ethical standards for the use of AI in critical fields can help balance efficiency with ethical considerations. These frameworks should emphasize the importance of safeguarding individual rights, privacy, and fairness while promoting the responsible use of AI technologies.\\n\\n6. **Focus on Beneficence and Non-Maleficence:** Especially in healthcare, AI applications should prioritize patient welfare. This means weighing potential benefits against risks, and ensuring that any implementation of AI is aimed at improving patient outcomes rather than merely enhancing operational efficiency.\\n\\n7. **Public Engagement and Education:** Engaging the public in conversations about AI in healthcare and criminal justice can foster understanding and build trust. Education initiatives can raise awareness about the benefits and limitations of AI, enabling informed discussions about ethical concerns and societal impacts.\\n\\n8. **Ongoing Ethical Evaluation:** The ethical landscape of AI is dynamic, so continuous evaluation of AI systems is necessary. Establishing ethical review boards or committees that regularly assess AI impact, user experiences, and societal implications can help ensure ongoing alignment with ethical principles.\\n\\n9. **Benefits and Equity Considerations:** AI's deployment should focus on its potential to improve access and equity in both healthcare and criminal justice. This involves recognizing disparities and ensuring that AI systems are implemented in ways that benefit underserved populations.\\n\\nBy integrating these strategies, organizations can strive for a harmonious balance that respects ethical considerations while leveraging the advantages of AI for enhanced decision-making in critical fields. It is essential to remain vigilant about the ethical implications throughout the AI lifecycle—from development and implementation to monitoring and updating—ensuring that these technologies serve humanity positively and equitably.\", 'Reconciling the ethical implications of artificial intelligence (AI) in decision-making processes with the need for efficiency and accuracy in critical fields like healthcare and criminal justice requires a multi-faceted approach. Here are some strategies to address this challenge:\\n\\n**Healthcare:**\\n\\n1. **Transparency and explainability**: Ensure that AI algorithms used in healthcare are transparent, explainable, and interpretable, allowing clinicians to understand the decision-making process.\\n2. **Human oversight**: Implement human review and validation of AI-generated diagnoses or treatment plans to detect and correct potential errors or biases.\\n3. **Risk assessment and mitigation**: Identify potential risks associated with AI-driven decision-making and implement strategies to mitigate them, such as regular algorithm updates and re-validation.\\n4. **Data quality and diversity**: Ensure that training data is diverse, representative, and of high quality to minimize bias and errors.\\n5. **Clinician-AI collaboration**: Foster collaboration between clinicians and AI systems to leverage the strengths of both, enabling more accurate and efficient diagnoses and treatment plans.\\n\\n**Criminal Justice:**\\n\\n1. **Bias detection and mitigation**: Implement mechanisms to detect and mitigate bias in AI algorithms used in criminal justice, such as risk assessment tools for bail or sentencing decisions.\\n2. **Transparency and accountability**: Ensure that AI-driven decision-making processes in criminal justice are transparent, accountable, and subject to review and appeal.\\n3. **Human review and validation**: Implement human review and validation of AI-generated recommendations or decisions, such as pre-trial bail or sentencing decisions.\\n4. **Data quality and validation**: Ensure that data used to train and validate AI algorithms in criminal justice is accurate, complete, and unbiased.\\n5. **Regular audits and evaluations**: Regularly audit and evaluate AI systems used in criminal justice to detect and address potential biases or errors.\\n\\n**General Strategies:**\\n\\n1. **Ethics guidelines and frameworks**: Develop and implement ethics guidelines and frameworks for the development and deployment of AI systems in critical fields.\\n2. **Multi-stakeholder collaboration**: Foster collaboration among stakeholders, including policymakers, technologists, clinicians, and community representatives, to ensure that AI systems are developed and deployed in a responsible and ethical manner.\\n3. **Education and training**: Provide education and training for professionals working with AI systems to ensure they understand the potential benefits and limitations of AI-driven decision-making.\\n4. **Continuous monitoring and evaluation**: Continuously monitor and evaluate AI systems to detect and address potential biases, errors, or unintended consequences.\\n5. **Regulatory frameworks**: Establish regulatory frameworks that address the ethical implications of AI in critical fields, such as healthcare and criminal justice, and provide guidelines for the development and deployment of AI systems.\\n\\n**Future Research Directions:**\\n\\n1. **Explainable AI**: Develop more explainable and transparent AI algorithms to facilitate human understanding and trust in AI-driven decision-making.\\n2. **Fairness and bias detection**: Research and develop methods to detect and mitigate bias in AI algorithms, ensuring fairness and equity in decision-making processes.\\n3. **Human-AI collaboration**: Investigate the potential benefits and limitations of human-AI collaboration in critical fields, such as healthcare and criminal justice.\\n4. **Value alignment**: Research methods to align AI systems with human values, such as fairness, transparency, and accountability, to ensure that AI-driven decision-making is consistent with societal norms and expectations.\\n\\nBy adopting these strategies and research directions, we can reconcile the ethical implications of AI in decision-making processes with the need for efficiency and accuracy in critical fields like healthcare and criminal justice, ultimately promoting more responsible and beneficial AI applications.']\n"
     ]
    }
   ],
   "source": [
    "print(competitors)\n",
    "print(answers)\n"
   ]
  },
  {
   "cell_type": "code",
   "execution_count": 11,
   "id": "ca424558",
   "metadata": {},
   "outputs": [
    {
     "name": "stdout",
     "output_type": "stream",
     "text": [
      "Competitor: gpt-4o-mini\n",
      "\n",
      " Reconciling the ethical implications of artificial intelligence (AI) in decision-making processes with the need for efficiency and accuracy in critical fields like healthcare and criminal justice is a multi-faceted challenge that requires a balanced approach. Here are several strategies that can be employed:\n",
      "\n",
      "1. **Transparency and Accountability:** Implementing AI systems with a focus on transparency is crucial. Stakeholders should understand how AI systems make decisions, including the data and algorithms used. This can mitigate biases and provide accountability for outcomes. Regular audits and assessments should also be conducted to ensure adherence to ethical standards.\n",
      "\n",
      "2. **Interdisciplinary Collaboration:** Engaging a diverse group of experts—including ethicists, data scientists, healthcare professionals, legal experts, and community representatives—in the development and deployment of AI tools can help ensure that various perspectives and values are considered. This collaboration can lead to more ethically sound AI applications.\n",
      "\n",
      "3. **Bias Mitigation Strategies:** Developing and employing AI algorithms that are actively designed to mitigate bias can help ensure that decisions in healthcare and criminal justice are fair and equitable. This includes using diverse datasets, conducting bias audits, and continuously monitoring and updating AI systems as new data becomes available.\n",
      "\n",
      "4. **Human-in-the-Loop Systems:** Incorporating a human-in-the-loop approach ensures that critical decisions are reviewed and validated by qualified professionals. This combination can enhance the accuracy and appropriateness of outcomes while retaining the important ethical considerations that come with human judgment.\n",
      "\n",
      "5. **Regulatory Frameworks:** Establishing clear regulatory guidelines and ethical standards for the use of AI in critical fields can help balance efficiency with ethical considerations. These frameworks should emphasize the importance of safeguarding individual rights, privacy, and fairness while promoting the responsible use of AI technologies.\n",
      "\n",
      "6. **Focus on Beneficence and Non-Maleficence:** Especially in healthcare, AI applications should prioritize patient welfare. This means weighing potential benefits against risks, and ensuring that any implementation of AI is aimed at improving patient outcomes rather than merely enhancing operational efficiency.\n",
      "\n",
      "7. **Public Engagement and Education:** Engaging the public in conversations about AI in healthcare and criminal justice can foster understanding and build trust. Education initiatives can raise awareness about the benefits and limitations of AI, enabling informed discussions about ethical concerns and societal impacts.\n",
      "\n",
      "8. **Ongoing Ethical Evaluation:** The ethical landscape of AI is dynamic, so continuous evaluation of AI systems is necessary. Establishing ethical review boards or committees that regularly assess AI impact, user experiences, and societal implications can help ensure ongoing alignment with ethical principles.\n",
      "\n",
      "9. **Benefits and Equity Considerations:** AI's deployment should focus on its potential to improve access and equity in both healthcare and criminal justice. This involves recognizing disparities and ensuring that AI systems are implemented in ways that benefit underserved populations.\n",
      "\n",
      "By integrating these strategies, organizations can strive for a harmonious balance that respects ethical considerations while leveraging the advantages of AI for enhanced decision-making in critical fields. It is essential to remain vigilant about the ethical implications throughout the AI lifecycle—from development and implementation to monitoring and updating—ensuring that these technologies serve humanity positively and equitably.\n",
      "Competitor: llama-3.3-70b-versatile\n",
      "\n",
      " Reconciling the ethical implications of artificial intelligence (AI) in decision-making processes with the need for efficiency and accuracy in critical fields like healthcare and criminal justice requires a multi-faceted approach. Here are some strategies to address this challenge:\n",
      "\n",
      "**Healthcare:**\n",
      "\n",
      "1. **Transparency and explainability**: Ensure that AI algorithms used in healthcare are transparent, explainable, and interpretable, allowing clinicians to understand the decision-making process.\n",
      "2. **Human oversight**: Implement human review and validation of AI-generated diagnoses or treatment plans to detect and correct potential errors or biases.\n",
      "3. **Risk assessment and mitigation**: Identify potential risks associated with AI-driven decision-making and implement strategies to mitigate them, such as regular algorithm updates and re-validation.\n",
      "4. **Data quality and diversity**: Ensure that training data is diverse, representative, and of high quality to minimize bias and errors.\n",
      "5. **Clinician-AI collaboration**: Foster collaboration between clinicians and AI systems to leverage the strengths of both, enabling more accurate and efficient diagnoses and treatment plans.\n",
      "\n",
      "**Criminal Justice:**\n",
      "\n",
      "1. **Bias detection and mitigation**: Implement mechanisms to detect and mitigate bias in AI algorithms used in criminal justice, such as risk assessment tools for bail or sentencing decisions.\n",
      "2. **Transparency and accountability**: Ensure that AI-driven decision-making processes in criminal justice are transparent, accountable, and subject to review and appeal.\n",
      "3. **Human review and validation**: Implement human review and validation of AI-generated recommendations or decisions, such as pre-trial bail or sentencing decisions.\n",
      "4. **Data quality and validation**: Ensure that data used to train and validate AI algorithms in criminal justice is accurate, complete, and unbiased.\n",
      "5. **Regular audits and evaluations**: Regularly audit and evaluate AI systems used in criminal justice to detect and address potential biases or errors.\n",
      "\n",
      "**General Strategies:**\n",
      "\n",
      "1. **Ethics guidelines and frameworks**: Develop and implement ethics guidelines and frameworks for the development and deployment of AI systems in critical fields.\n",
      "2. **Multi-stakeholder collaboration**: Foster collaboration among stakeholders, including policymakers, technologists, clinicians, and community representatives, to ensure that AI systems are developed and deployed in a responsible and ethical manner.\n",
      "3. **Education and training**: Provide education and training for professionals working with AI systems to ensure they understand the potential benefits and limitations of AI-driven decision-making.\n",
      "4. **Continuous monitoring and evaluation**: Continuously monitor and evaluate AI systems to detect and address potential biases, errors, or unintended consequences.\n",
      "5. **Regulatory frameworks**: Establish regulatory frameworks that address the ethical implications of AI in critical fields, such as healthcare and criminal justice, and provide guidelines for the development and deployment of AI systems.\n",
      "\n",
      "**Future Research Directions:**\n",
      "\n",
      "1. **Explainable AI**: Develop more explainable and transparent AI algorithms to facilitate human understanding and trust in AI-driven decision-making.\n",
      "2. **Fairness and bias detection**: Research and develop methods to detect and mitigate bias in AI algorithms, ensuring fairness and equity in decision-making processes.\n",
      "3. **Human-AI collaboration**: Investigate the potential benefits and limitations of human-AI collaboration in critical fields, such as healthcare and criminal justice.\n",
      "4. **Value alignment**: Research methods to align AI systems with human values, such as fairness, transparency, and accountability, to ensure that AI-driven decision-making is consistent with societal norms and expectations.\n",
      "\n",
      "By adopting these strategies and research directions, we can reconcile the ethical implications of AI in decision-making processes with the need for efficiency and accuracy in critical fields like healthcare and criminal justice, ultimately promoting more responsible and beneficial AI applications.\n"
     ]
    }
   ],
   "source": [
    "# lets zip the responses and competitors together\n",
    "for competitor, answer in zip(competitors, answers):\n",
    "    print(f\"Competitor: {competitor}\\n\\n {answer}\")"
   ]
  },
  {
   "cell_type": "code",
   "execution_count": 12,
   "id": "a0f0306a",
   "metadata": {},
   "outputs": [
    {
     "data": {
      "text/markdown": [
       "# Response from competitor 1\n",
       "\n",
       "Reconciling the ethical implications of artificial intelligence (AI) in decision-making processes with the need for efficiency and accuracy in critical fields like healthcare and criminal justice is a multi-faceted challenge that requires a balanced approach. Here are several strategies that can be employed:\n",
       "\n",
       "1. **Transparency and Accountability:** Implementing AI systems with a focus on transparency is crucial. Stakeholders should understand how AI systems make decisions, including the data and algorithms used. This can mitigate biases and provide accountability for outcomes. Regular audits and assessments should also be conducted to ensure adherence to ethical standards.\n",
       "\n",
       "2. **Interdisciplinary Collaboration:** Engaging a diverse group of experts—including ethicists, data scientists, healthcare professionals, legal experts, and community representatives—in the development and deployment of AI tools can help ensure that various perspectives and values are considered. This collaboration can lead to more ethically sound AI applications.\n",
       "\n",
       "3. **Bias Mitigation Strategies:** Developing and employing AI algorithms that are actively designed to mitigate bias can help ensure that decisions in healthcare and criminal justice are fair and equitable. This includes using diverse datasets, conducting bias audits, and continuously monitoring and updating AI systems as new data becomes available.\n",
       "\n",
       "4. **Human-in-the-Loop Systems:** Incorporating a human-in-the-loop approach ensures that critical decisions are reviewed and validated by qualified professionals. This combination can enhance the accuracy and appropriateness of outcomes while retaining the important ethical considerations that come with human judgment.\n",
       "\n",
       "5. **Regulatory Frameworks:** Establishing clear regulatory guidelines and ethical standards for the use of AI in critical fields can help balance efficiency with ethical considerations. These frameworks should emphasize the importance of safeguarding individual rights, privacy, and fairness while promoting the responsible use of AI technologies.\n",
       "\n",
       "6. **Focus on Beneficence and Non-Maleficence:** Especially in healthcare, AI applications should prioritize patient welfare. This means weighing potential benefits against risks, and ensuring that any implementation of AI is aimed at improving patient outcomes rather than merely enhancing operational efficiency.\n",
       "\n",
       "7. **Public Engagement and Education:** Engaging the public in conversations about AI in healthcare and criminal justice can foster understanding and build trust. Education initiatives can raise awareness about the benefits and limitations of AI, enabling informed discussions about ethical concerns and societal impacts.\n",
       "\n",
       "8. **Ongoing Ethical Evaluation:** The ethical landscape of AI is dynamic, so continuous evaluation of AI systems is necessary. Establishing ethical review boards or committees that regularly assess AI impact, user experiences, and societal implications can help ensure ongoing alignment with ethical principles.\n",
       "\n",
       "9. **Benefits and Equity Considerations:** AI's deployment should focus on its potential to improve access and equity in both healthcare and criminal justice. This involves recognizing disparities and ensuring that AI systems are implemented in ways that benefit underserved populations.\n",
       "\n",
       "By integrating these strategies, organizations can strive for a harmonious balance that respects ethical considerations while leveraging the advantages of AI for enhanced decision-making in critical fields. It is essential to remain vigilant about the ethical implications throughout the AI lifecycle—from development and implementation to monitoring and updating—ensuring that these technologies serve humanity positively and equitably.\n",
       "\n",
       "# Response from competitor 2\n",
       "\n",
       "Reconciling the ethical implications of artificial intelligence (AI) in decision-making processes with the need for efficiency and accuracy in critical fields like healthcare and criminal justice requires a multi-faceted approach. Here are some strategies to address this challenge:\n",
       "\n",
       "**Healthcare:**\n",
       "\n",
       "1. **Transparency and explainability**: Ensure that AI algorithms used in healthcare are transparent, explainable, and interpretable, allowing clinicians to understand the decision-making process.\n",
       "2. **Human oversight**: Implement human review and validation of AI-generated diagnoses or treatment plans to detect and correct potential errors or biases.\n",
       "3. **Risk assessment and mitigation**: Identify potential risks associated with AI-driven decision-making and implement strategies to mitigate them, such as regular algorithm updates and re-validation.\n",
       "4. **Data quality and diversity**: Ensure that training data is diverse, representative, and of high quality to minimize bias and errors.\n",
       "5. **Clinician-AI collaboration**: Foster collaboration between clinicians and AI systems to leverage the strengths of both, enabling more accurate and efficient diagnoses and treatment plans.\n",
       "\n",
       "**Criminal Justice:**\n",
       "\n",
       "1. **Bias detection and mitigation**: Implement mechanisms to detect and mitigate bias in AI algorithms used in criminal justice, such as risk assessment tools for bail or sentencing decisions.\n",
       "2. **Transparency and accountability**: Ensure that AI-driven decision-making processes in criminal justice are transparent, accountable, and subject to review and appeal.\n",
       "3. **Human review and validation**: Implement human review and validation of AI-generated recommendations or decisions, such as pre-trial bail or sentencing decisions.\n",
       "4. **Data quality and validation**: Ensure that data used to train and validate AI algorithms in criminal justice is accurate, complete, and unbiased.\n",
       "5. **Regular audits and evaluations**: Regularly audit and evaluate AI systems used in criminal justice to detect and address potential biases or errors.\n",
       "\n",
       "**General Strategies:**\n",
       "\n",
       "1. **Ethics guidelines and frameworks**: Develop and implement ethics guidelines and frameworks for the development and deployment of AI systems in critical fields.\n",
       "2. **Multi-stakeholder collaboration**: Foster collaboration among stakeholders, including policymakers, technologists, clinicians, and community representatives, to ensure that AI systems are developed and deployed in a responsible and ethical manner.\n",
       "3. **Education and training**: Provide education and training for professionals working with AI systems to ensure they understand the potential benefits and limitations of AI-driven decision-making.\n",
       "4. **Continuous monitoring and evaluation**: Continuously monitor and evaluate AI systems to detect and address potential biases, errors, or unintended consequences.\n",
       "5. **Regulatory frameworks**: Establish regulatory frameworks that address the ethical implications of AI in critical fields, such as healthcare and criminal justice, and provide guidelines for the development and deployment of AI systems.\n",
       "\n",
       "**Future Research Directions:**\n",
       "\n",
       "1. **Explainable AI**: Develop more explainable and transparent AI algorithms to facilitate human understanding and trust in AI-driven decision-making.\n",
       "2. **Fairness and bias detection**: Research and develop methods to detect and mitigate bias in AI algorithms, ensuring fairness and equity in decision-making processes.\n",
       "3. **Human-AI collaboration**: Investigate the potential benefits and limitations of human-AI collaboration in critical fields, such as healthcare and criminal justice.\n",
       "4. **Value alignment**: Research methods to align AI systems with human values, such as fairness, transparency, and accountability, to ensure that AI-driven decision-making is consistent with societal norms and expectations.\n",
       "\n",
       "By adopting these strategies and research directions, we can reconcile the ethical implications of AI in decision-making processes with the need for efficiency and accuracy in critical fields like healthcare and criminal justice, ultimately promoting more responsible and beneficial AI applications.\n",
       "\n"
      ],
      "text/plain": [
       "<IPython.core.display.Markdown object>"
      ]
     },
     "metadata": {},
     "output_type": "display_data"
    }
   ],
   "source": [
    "# Lets bring this together - note the user of enumerate\n",
    "together = \"\"\n",
    "for index, answer in enumerate(answers):\n",
    "    together += f\"# Response from competitor {index + 1}\\n\\n\"\n",
    "    together += answer + \"\\n\\n\"\n",
    "display(Markdown(together))"
   ]
  },
  {
   "cell_type": "code",
   "execution_count": 13,
   "id": "24138909",
   "metadata": {},
   "outputs": [],
   "source": [
    "judge = f\"\"\"You are judging a competition between {len(competitors)} competitors.\n",
    "Each model has been given this question:\n",
    "\n",
    "{question}\n",
    "\n",
    "Your job is to evaluate each response for clarity and strength of argument, and rank them in order of best to worst.\n",
    "Respond with JSON, and only JSON, with the following format:\n",
    "{{\"results\": [\"best competitor number\", \"second best competitor number\", \"third best competitor number\", ...]}}\n",
    "\n",
    "Here are the responses from each competitor:\n",
    "\n",
    "{together}\n",
    "\n",
    "Now respond with the JSON with the ranked order of the competitors, nothing else. Do not include markdown formatting or code blocks.\"\"\"\n"
   ]
  },
  {
   "cell_type": "code",
   "execution_count": 14,
   "id": "730e153c",
   "metadata": {},
   "outputs": [
    {
     "name": "stdout",
     "output_type": "stream",
     "text": [
      "You are judging a competition between 2 competitors.\n",
      "Each model has been given this question:\n",
      "\n",
      "How would you reconcile the ethical implications of artificial intelligence in decision-making processes with the need for efficiency and accuracy in critical fields such as healthcare and criminal justice?\n",
      "\n",
      "Your job is to evaluate each response for clarity and strength of argument, and rank them in order of best to worst.\n",
      "Respond with JSON, and only JSON, with the following format:\n",
      "{\"results\": [\"best competitor number\", \"second best competitor number\", \"third best competitor number\", ...]}\n",
      "\n",
      "Here are the responses from each competitor:\n",
      "\n",
      "# Response from competitor 1\n",
      "\n",
      "Reconciling the ethical implications of artificial intelligence (AI) in decision-making processes with the need for efficiency and accuracy in critical fields like healthcare and criminal justice is a multi-faceted challenge that requires a balanced approach. Here are several strategies that can be employed:\n",
      "\n",
      "1. **Transparency and Accountability:** Implementing AI systems with a focus on transparency is crucial. Stakeholders should understand how AI systems make decisions, including the data and algorithms used. This can mitigate biases and provide accountability for outcomes. Regular audits and assessments should also be conducted to ensure adherence to ethical standards.\n",
      "\n",
      "2. **Interdisciplinary Collaboration:** Engaging a diverse group of experts—including ethicists, data scientists, healthcare professionals, legal experts, and community representatives—in the development and deployment of AI tools can help ensure that various perspectives and values are considered. This collaboration can lead to more ethically sound AI applications.\n",
      "\n",
      "3. **Bias Mitigation Strategies:** Developing and employing AI algorithms that are actively designed to mitigate bias can help ensure that decisions in healthcare and criminal justice are fair and equitable. This includes using diverse datasets, conducting bias audits, and continuously monitoring and updating AI systems as new data becomes available.\n",
      "\n",
      "4. **Human-in-the-Loop Systems:** Incorporating a human-in-the-loop approach ensures that critical decisions are reviewed and validated by qualified professionals. This combination can enhance the accuracy and appropriateness of outcomes while retaining the important ethical considerations that come with human judgment.\n",
      "\n",
      "5. **Regulatory Frameworks:** Establishing clear regulatory guidelines and ethical standards for the use of AI in critical fields can help balance efficiency with ethical considerations. These frameworks should emphasize the importance of safeguarding individual rights, privacy, and fairness while promoting the responsible use of AI technologies.\n",
      "\n",
      "6. **Focus on Beneficence and Non-Maleficence:** Especially in healthcare, AI applications should prioritize patient welfare. This means weighing potential benefits against risks, and ensuring that any implementation of AI is aimed at improving patient outcomes rather than merely enhancing operational efficiency.\n",
      "\n",
      "7. **Public Engagement and Education:** Engaging the public in conversations about AI in healthcare and criminal justice can foster understanding and build trust. Education initiatives can raise awareness about the benefits and limitations of AI, enabling informed discussions about ethical concerns and societal impacts.\n",
      "\n",
      "8. **Ongoing Ethical Evaluation:** The ethical landscape of AI is dynamic, so continuous evaluation of AI systems is necessary. Establishing ethical review boards or committees that regularly assess AI impact, user experiences, and societal implications can help ensure ongoing alignment with ethical principles.\n",
      "\n",
      "9. **Benefits and Equity Considerations:** AI's deployment should focus on its potential to improve access and equity in both healthcare and criminal justice. This involves recognizing disparities and ensuring that AI systems are implemented in ways that benefit underserved populations.\n",
      "\n",
      "By integrating these strategies, organizations can strive for a harmonious balance that respects ethical considerations while leveraging the advantages of AI for enhanced decision-making in critical fields. It is essential to remain vigilant about the ethical implications throughout the AI lifecycle—from development and implementation to monitoring and updating—ensuring that these technologies serve humanity positively and equitably.\n",
      "\n",
      "# Response from competitor 2\n",
      "\n",
      "Reconciling the ethical implications of artificial intelligence (AI) in decision-making processes with the need for efficiency and accuracy in critical fields like healthcare and criminal justice requires a multi-faceted approach. Here are some strategies to address this challenge:\n",
      "\n",
      "**Healthcare:**\n",
      "\n",
      "1. **Transparency and explainability**: Ensure that AI algorithms used in healthcare are transparent, explainable, and interpretable, allowing clinicians to understand the decision-making process.\n",
      "2. **Human oversight**: Implement human review and validation of AI-generated diagnoses or treatment plans to detect and correct potential errors or biases.\n",
      "3. **Risk assessment and mitigation**: Identify potential risks associated with AI-driven decision-making and implement strategies to mitigate them, such as regular algorithm updates and re-validation.\n",
      "4. **Data quality and diversity**: Ensure that training data is diverse, representative, and of high quality to minimize bias and errors.\n",
      "5. **Clinician-AI collaboration**: Foster collaboration between clinicians and AI systems to leverage the strengths of both, enabling more accurate and efficient diagnoses and treatment plans.\n",
      "\n",
      "**Criminal Justice:**\n",
      "\n",
      "1. **Bias detection and mitigation**: Implement mechanisms to detect and mitigate bias in AI algorithms used in criminal justice, such as risk assessment tools for bail or sentencing decisions.\n",
      "2. **Transparency and accountability**: Ensure that AI-driven decision-making processes in criminal justice are transparent, accountable, and subject to review and appeal.\n",
      "3. **Human review and validation**: Implement human review and validation of AI-generated recommendations or decisions, such as pre-trial bail or sentencing decisions.\n",
      "4. **Data quality and validation**: Ensure that data used to train and validate AI algorithms in criminal justice is accurate, complete, and unbiased.\n",
      "5. **Regular audits and evaluations**: Regularly audit and evaluate AI systems used in criminal justice to detect and address potential biases or errors.\n",
      "\n",
      "**General Strategies:**\n",
      "\n",
      "1. **Ethics guidelines and frameworks**: Develop and implement ethics guidelines and frameworks for the development and deployment of AI systems in critical fields.\n",
      "2. **Multi-stakeholder collaboration**: Foster collaboration among stakeholders, including policymakers, technologists, clinicians, and community representatives, to ensure that AI systems are developed and deployed in a responsible and ethical manner.\n",
      "3. **Education and training**: Provide education and training for professionals working with AI systems to ensure they understand the potential benefits and limitations of AI-driven decision-making.\n",
      "4. **Continuous monitoring and evaluation**: Continuously monitor and evaluate AI systems to detect and address potential biases, errors, or unintended consequences.\n",
      "5. **Regulatory frameworks**: Establish regulatory frameworks that address the ethical implications of AI in critical fields, such as healthcare and criminal justice, and provide guidelines for the development and deployment of AI systems.\n",
      "\n",
      "**Future Research Directions:**\n",
      "\n",
      "1. **Explainable AI**: Develop more explainable and transparent AI algorithms to facilitate human understanding and trust in AI-driven decision-making.\n",
      "2. **Fairness and bias detection**: Research and develop methods to detect and mitigate bias in AI algorithms, ensuring fairness and equity in decision-making processes.\n",
      "3. **Human-AI collaboration**: Investigate the potential benefits and limitations of human-AI collaboration in critical fields, such as healthcare and criminal justice.\n",
      "4. **Value alignment**: Research methods to align AI systems with human values, such as fairness, transparency, and accountability, to ensure that AI-driven decision-making is consistent with societal norms and expectations.\n",
      "\n",
      "By adopting these strategies and research directions, we can reconcile the ethical implications of AI in decision-making processes with the need for efficiency and accuracy in critical fields like healthcare and criminal justice, ultimately promoting more responsible and beneficial AI applications.\n",
      "\n",
      "\n",
      "\n",
      "Now respond with the JSON with the ranked order of the competitors, nothing else. Do not include markdown formatting or code blocks.\n"
     ]
    }
   ],
   "source": [
    "print(judge)"
   ]
  },
  {
   "cell_type": "code",
   "execution_count": 15,
   "id": "aec39a38",
   "metadata": {},
   "outputs": [],
   "source": [
    "judge_messages = [{\"role\": \"user\", \"content\": judge}]"
   ]
  },
  {
   "cell_type": "code",
   "execution_count": 16,
   "id": "b7716f3e",
   "metadata": {},
   "outputs": [
    {
     "name": "stdout",
     "output_type": "stream",
     "text": [
      "{\"results\": [\"1\", \"2\"]}\n"
     ]
    }
   ],
   "source": [
    "# Judgement time\n",
    "openai = OpenAI()\n",
    "response = openai.chat.completions.create(\n",
    "    model=\"o3-mini\",\n",
    "    messages=judge_messages,\n",
    ")\n",
    "results = response.choices[0].message.content\n",
    "print(results)"
   ]
  },
  {
   "cell_type": "code",
   "execution_count": 17,
   "id": "f1f8245d",
   "metadata": {},
   "outputs": [
    {
     "name": "stdout",
     "output_type": "stream",
     "text": [
      "Rank 1: gpt-4o-mini\n",
      "Rank 2: llama-3.3-70b-versatile\n"
     ]
    }
   ],
   "source": [
    "# Okay lets turn this into results!\n",
    "\n",
    "results_dict = json.loads(results)\n",
    "ranks = results_dict[\"results\"]\n",
    "for index, result in enumerate(ranks):\n",
    "    competitor = competitors[int(result)-1]\n",
    "    print(f\"Rank {index+1}: {competitor}\")"
   ]
  },
  {
   "cell_type": "code",
   "execution_count": null,
   "id": "bf6af812",
   "metadata": {},
   "outputs": [],
   "source": []
  }
 ],
 "metadata": {
  "kernelspec": {
   "display_name": "agents",
   "language": "python",
   "name": "python3"
  },
  "language_info": {
   "codemirror_mode": {
    "name": "ipython",
    "version": 3
   },
   "file_extension": ".py",
   "mimetype": "text/x-python",
   "name": "python",
   "nbconvert_exporter": "python",
   "pygments_lexer": "ipython3",
   "version": "3.12.9"
  }
 },
 "nbformat": 4,
 "nbformat_minor": 5
}
