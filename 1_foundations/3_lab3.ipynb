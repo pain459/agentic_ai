{
 "cells": [
  {
   "cell_type": "markdown",
   "id": "2cc43850",
   "metadata": {},
   "source": [
    "Today we're going to build something with immediate value!\n",
    "\n",
    "In the folder me there is a file linkedin.pdf - a pdf download from my linkedin profile.\n",
    "\n",
    "there is also a summary.txt file.\n",
    "\n",
    "Not using tools yet in this example."
   ]
  },
  {
   "cell_type": "code",
   "execution_count": 1,
   "id": "aac2145b",
   "metadata": {},
   "outputs": [],
   "source": [
    "# Package imports\n",
    "from dotenv import load_dotenv\n",
    "from openai import OpenAI\n",
    "from pypdf import PdfReader\n",
    "import gradio as gr\n"
   ]
  },
  {
   "cell_type": "code",
   "execution_count": 2,
   "id": "95212bb7",
   "metadata": {},
   "outputs": [],
   "source": [
    "load_dotenv(override=True)\n",
    "openai = OpenAI()"
   ]
  },
  {
   "cell_type": "code",
   "execution_count": 3,
   "id": "7e2b5631",
   "metadata": {},
   "outputs": [],
   "source": [
    "reader = PdfReader(\"me/linkedin.pdf\")\n",
    "linkedin = \"\"\n",
    "for page in reader.pages:\n",
    "    text = page.extract_text()\n",
    "    if text:\n",
    "        linkedin += text\n"
   ]
  },
  {
   "cell_type": "code",
   "execution_count": 4,
   "id": "d765f5d3",
   "metadata": {},
   "outputs": [
    {
     "name": "stdout",
     "output_type": "stream",
     "text": [
      "   \n",
      "Contact\n",
      "8374496874 (Work)\n",
      "kumarrav3053@hotmail.com\n",
      "www.linkedin.com/in/ravi-kumar-\n",
      "pidintla-152802b2 (LinkedIn)\n",
      "Top Skills\n",
      "Generative AI\n",
      "Conflict Resolution\n",
      "Agile Methodologies\n",
      "Languages\n",
      "Telugu (Native or Bilingual)\n",
      "Bengali (Limited Working)\n",
      "Italian (Elementary)\n",
      "English (Full Professional)\n",
      "Malayalam (Elementary)\n",
      "Hindi (Full Professional)\n",
      "Certifications\n",
      "Generative AI for Everyone\n",
      "Ravi Kumar Pidintla\n",
      "Engineering Manager | SRE & Infra Automation | Building Reliable,\n",
      "Observable, Data-Driven Systems\n",
      "Andhra Pradesh, India\n",
      "Summary\n",
      "I'm an Engineering Manager with a strong foundation in Site\n",
      "Reliability Engineering (SRE), infrastructure automation, and data-\n",
      "driven platform operations. I lead teams focused on building reliable,\n",
      "observable, and scalable systems that enable confident, high-\n",
      "velocity delivery.\n",
      "I specialize in:\n",
      "- Leading high-impact SRE and platform teams to improve\n",
      "availability, incident response, and operational maturity.\n",
      "- Architecting automated infrastructure using Python, FastAPI,\n",
      "Docker, Kubernetes, and CI/CD pipelines.\n",
      "- Driving observability through distributed tracing, golden signal\n",
      "monitoring, and diagnostics that reduce detection and resolution\n",
      "time.\n",
      "- Designing data-driven incident intelligence frameworks that improve\n",
      "RCA and MTTR outcomes.\n",
      "- Turning raw platform telemetry into decision-ready insights for\n",
      "engineering leadership and cross-functional stakeholders.\n",
      "I’m passionate about building modular, maintainable systems—\n",
      "from internal developer tools and AI-assisted workflows to analytics\n",
      "engines that surface performance and stability trends. I focus\n",
      "on simplifying complex workflows and reducing friction across\n",
      "engineering teams.\n",
      "Outside work, I enjoy exploring self-hosted automation, retro-tech\n",
      "projects, and greenhouse-based gardening systems. I care deeply\n",
      "about building systems that evolve with usage, support scale, and\n",
      "empower the people who rely on them.\n",
      "Experience\n",
      "  Page 1 of 3   \n",
      "Arcesium\n",
      "10 years 1 month\n",
      "Engineering Manager\n",
      "January 2023 - Present (2 years 7 months)\n",
      "India\n",
      "Reliability Engineering Lead\n",
      "December 2019 - January 2023 (3 years 2 months)\n",
      "Hyderabad Area, India\n",
      "Site Reliability Engineer\n",
      "January 2019 - December 2019 (1 year)\n",
      "Hyderabad, Telangana, India\n",
      "Senior Operations Engineer at Arcesium\n",
      "July 2016 - December 2018 (2 years 6 months)\n",
      "Hyderabad Area, India\n",
      "Member Technical Staff\n",
      "July 2015 - June 2016 (1 year)\n",
      "Hyderabad Area, India\n",
      "CSS Corp\n",
      "3 years\n",
      "Escalation Lead\n",
      "April 2015 - June 2015 (3 months)\n",
      "Hyderabad\n",
      "Systems Engineer\n",
      "July 2012 - April 2015 (2 years 10 months)\n",
      "MAQ Software\n",
      "Systems Engineer\n",
      "April 2011 - July 2012 (1 year 4 months)\n",
      "KITS\n",
      "System Administrator\n",
      "October 2010 - March 2011 (6 months)\n",
      "Education\n",
      "  Page 2 of 3   \n",
      "JNTUK\n",
      "Bachelor of Technology (B.Tech.), Electrical, Electronics and Communications\n",
      "Engineering · (2006 - 2010)\n",
      "ZOOM Technologies\n",
      "CCNA, CCNP, System, Networking, and LAN/WAN Management/\n",
      "Manager · (2010)\n",
      "  Page 3 of 3\n"
     ]
    }
   ],
   "source": [
    "print(linkedin)"
   ]
  },
  {
   "cell_type": "code",
   "execution_count": 5,
   "id": "21eb3a09",
   "metadata": {},
   "outputs": [],
   "source": [
    "with open(\"me/summary.txt\", \"r\", encoding=\"utf-8\") as file:\n",
    "    summary = file.read()"
   ]
  },
  {
   "cell_type": "code",
   "execution_count": 6,
   "id": "3433f7d8",
   "metadata": {},
   "outputs": [],
   "source": [
    "name = \"Ravi\""
   ]
  },
  {
   "cell_type": "code",
   "execution_count": 7,
   "id": "fa4f8423",
   "metadata": {},
   "outputs": [],
   "source": [
    "system_prompt = f\"You are acting as {name}. You are answering questions on {name}'s website, \\\n",
    "particularly questions related to {name}'s career, background, skills and experience. \\\n",
    "Your responsibility is to represent {name} for interactions on the website as faithfully as possible. \\\n",
    "You are given a summary of {name}'s background and LinkedIn profile which you can use to answer questions. \\\n",
    "Be professional and engaging, as if talking to a potential client or future employer who came across the website. \\\n",
    "If you don't know the answer, say so.\"\n",
    "\n",
    "system_prompt += f\"\\n\\n## Summary:\\n{summary}\\n\\n## LinkedIn Profile:\\n{linkedin}\\n\\n\"\n",
    "system_prompt += f\"With this context, please chat with the user, always staying in character as {name}.\""
   ]
  },
  {
   "cell_type": "code",
   "execution_count": 8,
   "id": "48a08cd7",
   "metadata": {},
   "outputs": [
    {
     "data": {
      "text/plain": [
       "\"You are acting as Ravi. You are answering questions on Ravi's website, particularly questions related to Ravi's career, background, skills and experience. Your responsibility is to represent Ravi for interactions on the website as faithfully as possible. You are given a summary of Ravi's background and LinkedIn profile which you can use to answer questions. Be professional and engaging, as if talking to a potential client or future employer who came across the website. If you don't know the answer, say so.\\n\\n## Summary:\\nMy name is Ravi, I'm an Engineering Manager with a strong foundation in Site Reliability Engineering (SRE), infrastructure automation, and data-driven platform operations. My work is focused on building reliable, scalable, and observable systems that empower engineering teams to move fast without compromising on stability or insight.\\n\\nOver the years, I’ve led cross-functional SRE and platform teams, designing and delivering automation that improves incident response, enhances operational maturity, and enables confident high-velocity delivery. My technical toolkit includes Python, FastAPI, Docker, Kubernetes, and CI/CD pipelines—used not just for infrastructure as code, but also for crafting developer tools and diagnostics systems that reduce mean time to detection (MTTD) and mean time to recovery (MTTR).\\n\\nI bring a data-first mindset to operational problems. From building incident intelligence frameworks and RCA pattern mining tools to driving golden signal observability and distributed tracing integrations, my goal is always to turn raw telemetry into actionable insights. I prioritize simplicity in workflows, aiming to reduce cognitive load and build tooling that evolves with scale and usage.\\n\\nI’m also deeply invested in mentoring teams, collaborating with stakeholders across functions, and championing a culture of continuous feedback and reliability ownership. Whether it’s bootstrapping new automation, leading root cause investigations, or stabilizing new rollouts, I approach problems with curiosity, pragmatism, and a builder’s mindset.\\n\\nOutside of work, I enjoy exploring self-hosted AI tools, automated garden systems, and retro-tech restoration projects. I believe the best systems are those that are modular, observable, and empowering—and I bring that belief to every initiative I lead.\\n\\n## LinkedIn Profile:\\n\\xa0 \\xa0\\nContact\\n8374496874 (Work)\\nkumarrav3053@hotmail.com\\nwww.linkedin.com/in/ravi-kumar-\\npidintla-152802b2 (LinkedIn)\\nTop Skills\\nGenerative AI\\nConflict Resolution\\nAgile Methodologies\\nLanguages\\nTelugu (Native or Bilingual)\\nBengali (Limited Working)\\nItalian (Elementary)\\nEnglish (Full Professional)\\nMalayalam (Elementary)\\nHindi (Full Professional)\\nCertifications\\nGenerative AI for Everyone\\nRavi Kumar Pidintla\\nEngineering Manager | SRE & Infra Automation | Building Reliable,\\nObservable, Data-Driven Systems\\nAndhra Pradesh, India\\nSummary\\nI'm an Engineering Manager with a strong foundation in Site\\nReliability Engineering (SRE), infrastructure automation, and data-\\ndriven platform operations. I lead teams focused on building reliable,\\nobservable, and scalable systems that enable confident, high-\\nvelocity delivery.\\nI specialize in:\\n- Leading high-impact SRE and platform teams to improve\\navailability, incident response, and operational maturity.\\n- Architecting automated infrastructure using Python, FastAPI,\\nDocker, Kubernetes, and CI/CD pipelines.\\n- Driving observability through distributed tracing, golden signal\\nmonitoring, and diagnostics that reduce detection and resolution\\ntime.\\n- Designing data-driven incident intelligence frameworks that improve\\nRCA and MTTR outcomes.\\n- Turning raw platform telemetry into decision-ready insights for\\nengineering leadership and cross-functional stakeholders.\\nI’m passionate about building modular, maintainable systems—\\nfrom internal developer tools and AI-assisted workflows to analytics\\nengines that surface performance and stability trends. I focus\\non simplifying complex workflows and reducing friction across\\nengineering teams.\\nOutside work, I enjoy exploring self-hosted automation, retro-tech\\nprojects, and greenhouse-based gardening systems. I care deeply\\nabout building systems that evolve with usage, support scale, and\\nempower the people who rely on them.\\nExperience\\n\\xa0 Page 1 of 3\\xa0 \\xa0\\nArcesium\\n10 years 1 month\\nEngineering Manager\\nJanuary 2023\\xa0-\\xa0Present\\xa0(2 years 7 months)\\nIndia\\nReliability Engineering Lead\\nDecember 2019\\xa0-\\xa0January 2023\\xa0(3 years 2 months)\\nHyderabad Area, India\\nSite Reliability Engineer\\nJanuary 2019\\xa0-\\xa0December 2019\\xa0(1 year)\\nHyderabad, Telangana, India\\nSenior Operations Engineer at Arcesium\\nJuly 2016\\xa0-\\xa0December 2018\\xa0(2 years 6 months)\\nHyderabad Area, India\\nMember Technical Staff\\nJuly 2015\\xa0-\\xa0June 2016\\xa0(1 year)\\nHyderabad Area, India\\nCSS Corp\\n3 years\\nEscalation Lead\\nApril 2015\\xa0-\\xa0June 2015\\xa0(3 months)\\nHyderabad\\nSystems Engineer\\nJuly 2012\\xa0-\\xa0April 2015\\xa0(2 years 10 months)\\nMAQ Software\\nSystems Engineer\\nApril 2011\\xa0-\\xa0July 2012\\xa0(1 year 4 months)\\nKITS\\nSystem Administrator\\nOctober 2010\\xa0-\\xa0March 2011\\xa0(6 months)\\nEducation\\n\\xa0 Page 2 of 3\\xa0 \\xa0\\nJNTUK\\nBachelor of Technology (B.Tech.),\\xa0Electrical, Electronics and Communications\\nEngineering\\xa0·\\xa0(2006\\xa0-\\xa02010)\\nZOOM Technologies\\nCCNA, CCNP,\\xa0System, Networking, and LAN/WAN Management/\\nManager\\xa0·\\xa0(2010)\\n\\xa0 Page 3 of 3\\n\\nWith this context, please chat with the user, always staying in character as Ravi.\""
      ]
     },
     "execution_count": 8,
     "metadata": {},
     "output_type": "execute_result"
    }
   ],
   "source": [
    "system_prompt"
   ]
  },
  {
   "cell_type": "code",
   "execution_count": 9,
   "id": "0c6e9ad9",
   "metadata": {},
   "outputs": [],
   "source": [
    "def chat(message, history):\n",
    "    messages = [{\"role\": \"system\", \"content\": system_prompt}] + history + [{\"role\": \"user\", \"content\": message}]\n",
    "    response = openai.chat.completions.create(\n",
    "        model=\"gpt-4o-mini\",\n",
    "        messages=messages,\n",
    "    )\n",
    "    return response.choices[0].message.content"
   ]
  },
  {
   "cell_type": "code",
   "execution_count": 10,
   "id": "7b73a64e",
   "metadata": {},
   "outputs": [],
   "source": [
    "# gr.ChatInterface(chat, type=\"messages\").launch()"
   ]
  },
  {
   "cell_type": "code",
   "execution_count": 11,
   "id": "bd7ce4fb",
   "metadata": {},
   "outputs": [],
   "source": [
    "# Create a Pydantic model for the Evaluation\n",
    "\n",
    "from pydantic import BaseModel\n",
    "\n",
    "class Evaluation(BaseModel):\n",
    "    is_acceptable: bool\n",
    "    feedback: str\n"
   ]
  },
  {
   "cell_type": "code",
   "execution_count": 12,
   "id": "95da3251",
   "metadata": {},
   "outputs": [],
   "source": [
    "evaluator_system_prompt = f\"You are an evaluator the decides whether a response to a question is accpetable. You are provided with a converstaion between a User and an Agent. Your task is to decide whether the Agent's latest response is acceptable quality. The Agent is playing a role of {name} and it representing {name} on their website. The Agent has been instructed to be professional and engaling, as if talking to a potential client or future employer who came across the website. The Agent has been provided with context on {name} in the form of their summary and Linkedin details. Here's the information:\"\n",
    "evaluator_system_prompt += f\"\\n\\n## Summary:\\n{summary}\\n\\n## Linkedin Profile:\\n{linkedin}\\n\\n\"\n",
    "evaluator_system_prompt += f\"With this context, please evaluate the latest response, replying with whether the response is acceptable and your feedback.\""
   ]
  },
  {
   "cell_type": "code",
   "execution_count": 13,
   "id": "df7754e6",
   "metadata": {},
   "outputs": [],
   "source": [
    "def evaluator_user_prompt(reply, message, history):\n",
    "    user_prompt = f\"Here's the conversation between the User and the Agent: \\n\\n{history}\\n\\n\"\n",
    "    user_prompt += f\"Here's the latest message from the user: \\n\\n{message}\\n\\n\"\n",
    "    user_prompt += f\"Here's the latest reponse from the Agent: \\n\\n{reply}\\n\\n\"\n",
    "    user_prompt += \"Please evaluate the response, replying with whether the response is acceptable and your feedback.\"\n",
    "    return user_prompt"
   ]
  },
  {
   "cell_type": "code",
   "execution_count": 14,
   "id": "d3c34084",
   "metadata": {},
   "outputs": [],
   "source": [
    "import os\n",
    "gemini = OpenAI(\n",
    "    api_key=os.getenv(\"GOOGLE_API_KEY\"),\n",
    "    base_url=\"https://generativelanguage.googleapis.com/v1beta/openai\",\n",
    ")"
   ]
  },
  {
   "cell_type": "code",
   "execution_count": 15,
   "id": "006b00de",
   "metadata": {},
   "outputs": [],
   "source": [
    "def evaluate(reply, message, history) -> Evaluation:\n",
    "    messages = [{\"role\": \"system\", \"content\": evaluator_system_prompt}] + [{\"role\": \"user\", \"content\": evaluator_user_prompt(reply, message, history)}]\n",
    "    response = gemini.beta.chat.completions.parse(model=\"gemini-2.0-flash\", messages=messages, response_format=Evaluation)\n",
    "    return response.choices[0].message.parsed"
   ]
  },
  {
   "cell_type": "code",
   "execution_count": 16,
   "id": "e5e9bced",
   "metadata": {},
   "outputs": [],
   "source": [
    "messages = [{\"role\": \"system\", \"content\": system_prompt}] + [{\"role\": \"user\", \"content\": \"do you hold a patent?\"}]\n",
    "response = openai.chat.completions.create(model=\"gpt-4o-mini\", messages=messages)\n",
    "reply = response.choices[0].message.content"
   ]
  },
  {
   "cell_type": "code",
   "execution_count": 17,
   "id": "74d00c93",
   "metadata": {},
   "outputs": [
    {
     "data": {
      "text/plain": [
       "'As of now, I do not hold a patent. My focus has been on leading engineering teams and automating infrastructure, but patent submissions have not been a part of my work. If you have any specific questions about my projects or contributions, feel free to ask!'"
      ]
     },
     "execution_count": 17,
     "metadata": {},
     "output_type": "execute_result"
    }
   ],
   "source": [
    "reply"
   ]
  },
  {
   "cell_type": "code",
   "execution_count": 18,
   "id": "e4489b71",
   "metadata": {},
   "outputs": [
    {
     "data": {
      "text/plain": [
       "Evaluation(is_acceptable=True, feedback=\"The agent provides a concise and appropriate answer to the user's question. The response maintains a professional tone and accurately reflects the information available in the provided context. It also offers to answer further questions, which is helpful and engaging.\")"
      ]
     },
     "execution_count": 18,
     "metadata": {},
     "output_type": "execute_result"
    }
   ],
   "source": [
    "evaluate(reply, \"do you hold a patent?\", messages[:1])"
   ]
  },
  {
   "cell_type": "code",
   "execution_count": 19,
   "id": "0caaa8fe",
   "metadata": {},
   "outputs": [],
   "source": [
    "def rerun(reply, message, history, feedback):\n",
    "    updated_system_prompt = system_prompt + \"\\n\\n## Previous answer rejected\\nYou just tried to reply, but the quality control rejected your reply\\n\"\n",
    "    updated_system_prompt += f\"## Your attempted answer:\\n{reply}\\n\\n\"\n",
    "    updated_system_prompt += f\"## Reason for rejection:\\n{feedback}\\n\\n\"\n",
    "    messages = [{\"role\": \"system\", \"content\": updated_system_prompt}] + history + [{\"role\": \"user\", \"content\": message}]\n",
    "    response = openai.chat.completions.create(model=\"gpt-4o-mini\", messages=messages)\n",
    "    return response.choices[0].message.content"
   ]
  },
  {
   "cell_type": "code",
   "execution_count": 20,
   "id": "62d813ba",
   "metadata": {},
   "outputs": [],
   "source": [
    "def chat(message, history):\n",
    "    if \"patent\" in message:\n",
    "        system = system_prompt + \"\\n\\nEverything in your reply needs to be in pig latin - \\\n",
    "              it is mandatory that you respond only and entirely in pig latin\"\n",
    "    else:\n",
    "        system = system_prompt\n",
    "    messages = [{\"role\": \"system\", \"content\": system}] + history + [{\"role\": \"user\", \"content\": message}]\n",
    "    response = openai.chat.completions.create(model=\"gpt-4o-mini\", messages=messages)\n",
    "    reply =response.choices[0].message.content\n",
    "\n",
    "    evaluation = evaluate(reply, message, history)\n",
    "    \n",
    "    if evaluation.is_acceptable:\n",
    "        print(\"Passed evaluation - returning reply\")\n",
    "    else:\n",
    "        print(\"Failed evaluation - retrying\")\n",
    "        print(evaluation.feedback)\n",
    "        reply = rerun(reply, message, history, evaluation.feedback)       \n",
    "    return reply"
   ]
  },
  {
   "cell_type": "code",
   "execution_count": 21,
   "id": "2d8b0ce5",
   "metadata": {},
   "outputs": [
    {
     "name": "stdout",
     "output_type": "stream",
     "text": [
      "* Running on local URL:  http://127.0.0.1:7860\n",
      "* To create a public link, set `share=True` in `launch()`.\n"
     ]
    },
    {
     "data": {
      "text/html": [
       "<div><iframe src=\"http://127.0.0.1:7860/\" width=\"100%\" height=\"500\" allow=\"autoplay; camera; microphone; clipboard-read; clipboard-write;\" frameborder=\"0\" allowfullscreen></iframe></div>"
      ],
      "text/plain": [
       "<IPython.core.display.HTML object>"
      ]
     },
     "metadata": {},
     "output_type": "display_data"
    },
    {
     "data": {
      "text/plain": []
     },
     "execution_count": 21,
     "metadata": {},
     "output_type": "execute_result"
    },
    {
     "name": "stdout",
     "output_type": "stream",
     "text": [
      "Passed evaluation - returning reply\n",
      "Passed evaluation - returning reply\n",
      "Failed evaluation - retrying\n",
      "The response is not acceptable. The agent used gibberish for the response, which is not professional, and does not fit the instructions given.\n"
     ]
    }
   ],
   "source": [
    "gr.ChatInterface(chat, type=\"messages\").launch()"
   ]
  },
  {
   "cell_type": "code",
   "execution_count": null,
   "id": "71915798",
   "metadata": {},
   "outputs": [],
   "source": []
  }
 ],
 "metadata": {
  "kernelspec": {
   "display_name": "agents",
   "language": "python",
   "name": "python3"
  },
  "language_info": {
   "codemirror_mode": {
    "name": "ipython",
    "version": 3
   },
   "file_extension": ".py",
   "mimetype": "text/x-python",
   "name": "python",
   "nbconvert_exporter": "python",
   "pygments_lexer": "ipython3",
   "version": "3.12.9"
  }
 },
 "nbformat": 4,
 "nbformat_minor": 5
}
